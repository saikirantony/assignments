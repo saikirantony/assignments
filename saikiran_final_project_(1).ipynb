{
  "nbformat": 4,
  "nbformat_minor": 0,
  "metadata": {
    "colab": {
      "provenance": [],
      "collapsed_sections": [
        "VruJjlXzPQVk",
        "_cvE6TTfQjN6"
      ],
      "include_colab_link": true
    },
    "kernelspec": {
      "name": "python3",
      "display_name": "Python 3"
    },
    "language_info": {
      "name": "python"
    }
  },
  "cells": [
    {
      "cell_type": "markdown",
      "metadata": {
        "id": "view-in-github",
        "colab_type": "text"
      },
      "source": [
        "<a href=\"https://colab.research.google.com/github/saikirantony/assignments/blob/main/saikiran_final_project_(1).ipynb\" target=\"_parent\"><img src=\"https://colab.research.google.com/assets/colab-badge.svg\" alt=\"Open In Colab\"/></a>"
      ]
    },
    {
      "cell_type": "markdown",
      "source": [
        "# **Introduction to the project**\n",
        "\n",
        "Diabetes is a growing global health concern, with millions of people affected each year. The condition, characterized by elevated blood sugar levels, can lead to severe complications such as heart disease, kidney failure, and nerve damage if left untreated. Given the significant health and economic impact of diabetes, it is crucial to explore ways to predict and manage the disease early. This project focuses on analyzing various factors related to diabetes, aiming to develop predictive models that can aid in early diagnosis and intervention.\n",
        "\n",
        "Through the use of machine learning and statistical techniques, the project seeks to identify key variables that influence the likelihood of diabetes in individuals. By integrating demographic, lifestyle, and health data, the goal is to build an accurate model that can classify individuals as diabetic or non-diabetic based on their characteristics. This analysis will not only contribute to a better understanding of the disease but also provide valuable insights that could lead to more effective prevention and treatment strategies.\n",
        "\n"
      ],
      "metadata": {
        "id": "E75Z-Zh5PqYT"
      }
    },
    {
      "cell_type": "markdown",
      "source": [
        "# **Datasets used**\n",
        "\n",
        "\n",
        "\n",
        "\n",
        "\n"
      ],
      "metadata": {
        "id": "lZNhQFfXQCUx"
      }
    },
    {
      "cell_type": "markdown",
      "source": [
        "\n",
        "\n",
        "1. Diabetes in America Dataset: This dataset is sourced from the National Institute of Diabetes and Digestive and Kidney Diseases (NIDDK). It provides a comprehensive view of the diabetes-related statistics, including the prevalence, incidence, and treatment patterns of diabetes across the United States. The data contains various health-related metrics, which help in analyzing the extent and effects of diabetes in different demographics.\n",
        "\n",
        "*  Link: https://www.niddk.nih.gov/about-niddk/strategic-plans-reports/diabetes-in-america\n",
        "\n",
        "2. Kaggle Diabetes Dataset: This dataset, available on Kaggle, contains information about patients diagnosed with diabetes. It includes details such as age, gender, glucose levels, blood pressure, BMI, and whether the patient is diabetic or not. The dataset is widely used for prediction modeling and machine learning, especially for building classification models to predict the likelihood of diabetes based on various health parameters.\n",
        "\n",
        "* Link: https://www.kaggle.com/datasets/mathchi/diabetes-data-set"
      ],
      "metadata": {
        "id": "kecbf7xUQF05"
      }
    },
    {
      "cell_type": "markdown",
      "source": [
        "# **Import the libraries**"
      ],
      "metadata": {
        "id": "okKNt4IRPwTn"
      }
    },
    {
      "cell_type": "code",
      "execution_count": 1,
      "metadata": {
        "id": "CmoRgL57K0uf"
      },
      "outputs": [],
      "source": [
        "import pandas as pd\n",
        "import pandas as pd\n",
        "import matplotlib.pyplot as plt\n",
        "import seaborn as sns\n",
        "import numpy as np"
      ]
    },
    {
      "cell_type": "markdown",
      "source": [
        "# **Import the datasets**"
      ],
      "metadata": {
        "id": "50q-aykuLjQP"
      }
    },
    {
      "cell_type": "code",
      "source": [
        "diabetes = pd.read_csv(\"diabetes.csv\")"
      ],
      "metadata": {
        "id": "paxkTjnZLFOq",
        "colab": {
          "base_uri": "https://localhost:8080/",
          "height": 299
        },
        "outputId": "760b8552-d2d2-4f1e-bda4-880f3a6d6f31"
      },
      "execution_count": 2,
      "outputs": [
        {
          "output_type": "error",
          "ename": "FileNotFoundError",
          "evalue": "[Errno 2] No such file or directory: 'diabetes.csv'",
          "traceback": [
            "\u001b[0;31m---------------------------------------------------------------------------\u001b[0m",
            "\u001b[0;31mFileNotFoundError\u001b[0m                         Traceback (most recent call last)",
            "\u001b[0;32m<ipython-input-2-643e16309fdf>\u001b[0m in \u001b[0;36m<cell line: 1>\u001b[0;34m()\u001b[0m\n\u001b[0;32m----> 1\u001b[0;31m \u001b[0mdiabetes\u001b[0m \u001b[0;34m=\u001b[0m \u001b[0mpd\u001b[0m\u001b[0;34m.\u001b[0m\u001b[0mread_csv\u001b[0m\u001b[0;34m(\u001b[0m\u001b[0;34m\"diabetes.csv\"\u001b[0m\u001b[0;34m)\u001b[0m\u001b[0;34m\u001b[0m\u001b[0;34m\u001b[0m\u001b[0m\n\u001b[0m",
            "\u001b[0;32m/usr/local/lib/python3.10/dist-packages/pandas/io/parsers/readers.py\u001b[0m in \u001b[0;36mread_csv\u001b[0;34m(filepath_or_buffer, sep, delimiter, header, names, index_col, usecols, dtype, engine, converters, true_values, false_values, skipinitialspace, skiprows, skipfooter, nrows, na_values, keep_default_na, na_filter, verbose, skip_blank_lines, parse_dates, infer_datetime_format, keep_date_col, date_parser, date_format, dayfirst, cache_dates, iterator, chunksize, compression, thousands, decimal, lineterminator, quotechar, quoting, doublequote, escapechar, comment, encoding, encoding_errors, dialect, on_bad_lines, delim_whitespace, low_memory, memory_map, float_precision, storage_options, dtype_backend)\u001b[0m\n\u001b[1;32m   1024\u001b[0m     \u001b[0mkwds\u001b[0m\u001b[0;34m.\u001b[0m\u001b[0mupdate\u001b[0m\u001b[0;34m(\u001b[0m\u001b[0mkwds_defaults\u001b[0m\u001b[0;34m)\u001b[0m\u001b[0;34m\u001b[0m\u001b[0;34m\u001b[0m\u001b[0m\n\u001b[1;32m   1025\u001b[0m \u001b[0;34m\u001b[0m\u001b[0m\n\u001b[0;32m-> 1026\u001b[0;31m     \u001b[0;32mreturn\u001b[0m \u001b[0m_read\u001b[0m\u001b[0;34m(\u001b[0m\u001b[0mfilepath_or_buffer\u001b[0m\u001b[0;34m,\u001b[0m \u001b[0mkwds\u001b[0m\u001b[0;34m)\u001b[0m\u001b[0;34m\u001b[0m\u001b[0;34m\u001b[0m\u001b[0m\n\u001b[0m\u001b[1;32m   1027\u001b[0m \u001b[0;34m\u001b[0m\u001b[0m\n\u001b[1;32m   1028\u001b[0m \u001b[0;34m\u001b[0m\u001b[0m\n",
            "\u001b[0;32m/usr/local/lib/python3.10/dist-packages/pandas/io/parsers/readers.py\u001b[0m in \u001b[0;36m_read\u001b[0;34m(filepath_or_buffer, kwds)\u001b[0m\n\u001b[1;32m    618\u001b[0m \u001b[0;34m\u001b[0m\u001b[0m\n\u001b[1;32m    619\u001b[0m     \u001b[0;31m# Create the parser.\u001b[0m\u001b[0;34m\u001b[0m\u001b[0;34m\u001b[0m\u001b[0m\n\u001b[0;32m--> 620\u001b[0;31m     \u001b[0mparser\u001b[0m \u001b[0;34m=\u001b[0m \u001b[0mTextFileReader\u001b[0m\u001b[0;34m(\u001b[0m\u001b[0mfilepath_or_buffer\u001b[0m\u001b[0;34m,\u001b[0m \u001b[0;34m**\u001b[0m\u001b[0mkwds\u001b[0m\u001b[0;34m)\u001b[0m\u001b[0;34m\u001b[0m\u001b[0;34m\u001b[0m\u001b[0m\n\u001b[0m\u001b[1;32m    621\u001b[0m \u001b[0;34m\u001b[0m\u001b[0m\n\u001b[1;32m    622\u001b[0m     \u001b[0;32mif\u001b[0m \u001b[0mchunksize\u001b[0m \u001b[0;32mor\u001b[0m \u001b[0miterator\u001b[0m\u001b[0;34m:\u001b[0m\u001b[0;34m\u001b[0m\u001b[0;34m\u001b[0m\u001b[0m\n",
            "\u001b[0;32m/usr/local/lib/python3.10/dist-packages/pandas/io/parsers/readers.py\u001b[0m in \u001b[0;36m__init__\u001b[0;34m(self, f, engine, **kwds)\u001b[0m\n\u001b[1;32m   1618\u001b[0m \u001b[0;34m\u001b[0m\u001b[0m\n\u001b[1;32m   1619\u001b[0m         \u001b[0mself\u001b[0m\u001b[0;34m.\u001b[0m\u001b[0mhandles\u001b[0m\u001b[0;34m:\u001b[0m \u001b[0mIOHandles\u001b[0m \u001b[0;34m|\u001b[0m \u001b[0;32mNone\u001b[0m \u001b[0;34m=\u001b[0m \u001b[0;32mNone\u001b[0m\u001b[0;34m\u001b[0m\u001b[0;34m\u001b[0m\u001b[0m\n\u001b[0;32m-> 1620\u001b[0;31m         \u001b[0mself\u001b[0m\u001b[0;34m.\u001b[0m\u001b[0m_engine\u001b[0m \u001b[0;34m=\u001b[0m \u001b[0mself\u001b[0m\u001b[0;34m.\u001b[0m\u001b[0m_make_engine\u001b[0m\u001b[0;34m(\u001b[0m\u001b[0mf\u001b[0m\u001b[0;34m,\u001b[0m \u001b[0mself\u001b[0m\u001b[0;34m.\u001b[0m\u001b[0mengine\u001b[0m\u001b[0;34m)\u001b[0m\u001b[0;34m\u001b[0m\u001b[0;34m\u001b[0m\u001b[0m\n\u001b[0m\u001b[1;32m   1621\u001b[0m \u001b[0;34m\u001b[0m\u001b[0m\n\u001b[1;32m   1622\u001b[0m     \u001b[0;32mdef\u001b[0m \u001b[0mclose\u001b[0m\u001b[0;34m(\u001b[0m\u001b[0mself\u001b[0m\u001b[0;34m)\u001b[0m \u001b[0;34m->\u001b[0m \u001b[0;32mNone\u001b[0m\u001b[0;34m:\u001b[0m\u001b[0;34m\u001b[0m\u001b[0;34m\u001b[0m\u001b[0m\n",
            "\u001b[0;32m/usr/local/lib/python3.10/dist-packages/pandas/io/parsers/readers.py\u001b[0m in \u001b[0;36m_make_engine\u001b[0;34m(self, f, engine)\u001b[0m\n\u001b[1;32m   1878\u001b[0m                 \u001b[0;32mif\u001b[0m \u001b[0;34m\"b\"\u001b[0m \u001b[0;32mnot\u001b[0m \u001b[0;32min\u001b[0m \u001b[0mmode\u001b[0m\u001b[0;34m:\u001b[0m\u001b[0;34m\u001b[0m\u001b[0;34m\u001b[0m\u001b[0m\n\u001b[1;32m   1879\u001b[0m                     \u001b[0mmode\u001b[0m \u001b[0;34m+=\u001b[0m \u001b[0;34m\"b\"\u001b[0m\u001b[0;34m\u001b[0m\u001b[0;34m\u001b[0m\u001b[0m\n\u001b[0;32m-> 1880\u001b[0;31m             self.handles = get_handle(\n\u001b[0m\u001b[1;32m   1881\u001b[0m                 \u001b[0mf\u001b[0m\u001b[0;34m,\u001b[0m\u001b[0;34m\u001b[0m\u001b[0;34m\u001b[0m\u001b[0m\n\u001b[1;32m   1882\u001b[0m                 \u001b[0mmode\u001b[0m\u001b[0;34m,\u001b[0m\u001b[0;34m\u001b[0m\u001b[0;34m\u001b[0m\u001b[0m\n",
            "\u001b[0;32m/usr/local/lib/python3.10/dist-packages/pandas/io/common.py\u001b[0m in \u001b[0;36mget_handle\u001b[0;34m(path_or_buf, mode, encoding, compression, memory_map, is_text, errors, storage_options)\u001b[0m\n\u001b[1;32m    871\u001b[0m         \u001b[0;32mif\u001b[0m \u001b[0mioargs\u001b[0m\u001b[0;34m.\u001b[0m\u001b[0mencoding\u001b[0m \u001b[0;32mand\u001b[0m \u001b[0;34m\"b\"\u001b[0m \u001b[0;32mnot\u001b[0m \u001b[0;32min\u001b[0m \u001b[0mioargs\u001b[0m\u001b[0;34m.\u001b[0m\u001b[0mmode\u001b[0m\u001b[0;34m:\u001b[0m\u001b[0;34m\u001b[0m\u001b[0;34m\u001b[0m\u001b[0m\n\u001b[1;32m    872\u001b[0m             \u001b[0;31m# Encoding\u001b[0m\u001b[0;34m\u001b[0m\u001b[0;34m\u001b[0m\u001b[0m\n\u001b[0;32m--> 873\u001b[0;31m             handle = open(\n\u001b[0m\u001b[1;32m    874\u001b[0m                 \u001b[0mhandle\u001b[0m\u001b[0;34m,\u001b[0m\u001b[0;34m\u001b[0m\u001b[0;34m\u001b[0m\u001b[0m\n\u001b[1;32m    875\u001b[0m                 \u001b[0mioargs\u001b[0m\u001b[0;34m.\u001b[0m\u001b[0mmode\u001b[0m\u001b[0;34m,\u001b[0m\u001b[0;34m\u001b[0m\u001b[0;34m\u001b[0m\u001b[0m\n",
            "\u001b[0;31mFileNotFoundError\u001b[0m: [Errno 2] No such file or directory: 'diabetes.csv'"
          ]
        }
      ]
    },
    {
      "cell_type": "code",
      "source": [
        "diabetes_prediction = pd.read_json(\"diabetes_prediction.json\")"
      ],
      "metadata": {
        "id": "6yMZxo0wNcOc"
      },
      "execution_count": null,
      "outputs": []
    },
    {
      "cell_type": "markdown",
      "source": [
        "# **Basic Data exploration**"
      ],
      "metadata": {
        "id": "O-66ZhINLmXo"
      }
    },
    {
      "cell_type": "code",
      "source": [
        "diabetes.head()"
      ],
      "metadata": {
        "id": "3UuAeVzkLquN"
      },
      "execution_count": null,
      "outputs": []
    },
    {
      "cell_type": "code",
      "source": [
        "diabetes.info()"
      ],
      "metadata": {
        "id": "nWEx1_k_LsLz"
      },
      "execution_count": null,
      "outputs": []
    },
    {
      "cell_type": "code",
      "source": [
        "# Convert columns to numeric types where applicable\n",
        "numeric_columns = ['id', 'encounter_id', 'patient_nbr', 'admission_type_id', 'discharge_disposition_id', 'diag_1', 'diag_2', 'diag_3',\n",
        "                   'admission_source_id', 'time_in_hospital', 'num_lab_procedures', 'num_procedures',\n",
        "                   'num_medications', 'number_outpatient', 'number_emergency', 'number_inpatient',\n",
        "                   'number_diagnoses']\n",
        "\n",
        "diabetes[numeric_columns] = diabetes[numeric_columns].apply(pd.to_numeric, errors='coerce')  # Convert to numeric, coerce errors to NaN"
      ],
      "metadata": {
        "id": "LVbhEBsILuGU"
      },
      "execution_count": null,
      "outputs": []
    },
    {
      "cell_type": "code",
      "source": [
        "# Convert categorical columns to 'object' type\n",
        "categorical_columns = ['race', 'gender', 'age', 'weight', 'payer_code', 'medical_specialty',\n",
        "                       'max_glu_serum', 'A1Cresult', 'metformin', 'repaglinide', 'nateglinide', 'chlorpropamide', 'glimepiride',\n",
        "                       'acetohexamide', 'glipizide', 'glyburide', 'tolbutamide', 'pioglitazone', 'rosiglitazone', 'acarbose',\n",
        "                       'miglitol', 'troglitazone', 'tolazamide', 'examide', 'citoglipton', 'insulin', 'glyburide.metformin',\n",
        "                       'glipizide.metformin', 'glimepiride.pioglitazone', 'metformin.rosiglitazone', 'metformin.pioglitazone',\n",
        "                       'change', 'diabetesMed', 'readmitted']\n",
        "\n",
        "diabetes[categorical_columns] = diabetes[categorical_columns].astype('category')"
      ],
      "metadata": {
        "id": "dxxUcb0XQ9pH"
      },
      "execution_count": null,
      "outputs": []
    },
    {
      "cell_type": "code",
      "source": [
        "diabetes_prediction.head()"
      ],
      "metadata": {
        "id": "IipHCwyRNkK3"
      },
      "execution_count": null,
      "outputs": []
    },
    {
      "cell_type": "code",
      "source": [
        "diabetes_prediction.info()"
      ],
      "metadata": {
        "id": "x-HVafayNlle"
      },
      "execution_count": null,
      "outputs": []
    },
    {
      "cell_type": "code",
      "source": [
        "diabetes_prediction = diabetes_prediction.dropna()"
      ],
      "metadata": {
        "id": "fSsiD35lNnVO"
      },
      "execution_count": null,
      "outputs": []
    },
    {
      "cell_type": "code",
      "source": [
        "# Replace Outcome values with 'Diabetic' and 'Non-diabetic'\n",
        "diabetes_prediction['Outcome'] = diabetes_prediction['Outcome'].replace({1: 'Diabetic', 0: 'Non-diabetic'})"
      ],
      "metadata": {
        "id": "3NhKD9FrN4sg"
      },
      "execution_count": null,
      "outputs": []
    },
    {
      "cell_type": "code",
      "source": [
        "diabetes_prediction.head()"
      ],
      "metadata": {
        "id": "3uWbkm6fNvsv"
      },
      "execution_count": null,
      "outputs": []
    },
    {
      "cell_type": "markdown",
      "source": [
        "# **Data Merging**"
      ],
      "metadata": {
        "id": "VruJjlXzPQVk"
      }
    },
    {
      "cell_type": "code",
      "source": [
        "# Convert column names to lowercase for both datasets\n",
        "diabetes.columns = diabetes.columns.str.lower()\n",
        "diabetes_prediction.columns = diabetes_prediction.columns.str.lower()\n",
        "\n",
        "# Now merge on the common columns (e.g., 'age' and 'gender')\n",
        "merged_data = pd.merge(diabetes, diabetes_prediction, on=['age'], how='inner')\n"
      ],
      "metadata": {
        "id": "Jk5lga9vPVBH"
      },
      "execution_count": null,
      "outputs": []
    },
    {
      "cell_type": "markdown",
      "source": [
        "# **Data visualizations**"
      ],
      "metadata": {
        "id": "y7PL2b7bMQ8m"
      }
    },
    {
      "cell_type": "code",
      "source": [
        "numeric_columns = ['time_in_hospital', 'num_lab_procedures', 'num_medications', 'num_procedures']\n",
        "\n",
        "plt.figure(figsize=(12, 8))\n",
        "\n",
        "for i, column in enumerate(numeric_columns, 1):\n",
        "    plt.subplot(2, 2, i)\n",
        "    plt.hist(diabetes[column].dropna(), bins=20, color='skyblue', edgecolor='black')\n",
        "    plt.title(f'Distribution of {column}')\n",
        "    plt.xlabel(column)\n",
        "    plt.ylabel('Frequency')\n",
        "    plt.grid(True)\n",
        "\n",
        "plt.tight_layout()\n",
        "plt.show()"
      ],
      "metadata": {
        "id": "dvotO0kDL0C2"
      },
      "execution_count": null,
      "outputs": []
    },
    {
      "cell_type": "code",
      "source": [
        "plt.figure(figsize=(10, 6))\n",
        "sns.histplot(diabetes['age'], kde=True, color='skyblue', bins=30)\n",
        "plt.title('Distribution of Age')\n",
        "plt.xlabel('Age')\n",
        "plt.ylabel('Frequency')\n",
        "plt.tight_layout()\n",
        "plt.show()\n"
      ],
      "metadata": {
        "id": "jCDXPxdFM24i"
      },
      "execution_count": null,
      "outputs": []
    },
    {
      "cell_type": "code",
      "source": [
        "# Relationship between Age and BMI for Diabetic vs Non-diabetic\n",
        "plt.figure(figsize=(8, 5))\n",
        "sns.scatterplot(data=diabetes_prediction, x='age', y='bmi', hue='outcome', palette='Set2')\n",
        "plt.title('Age vs BMI for Diabetic and Non-diabetic')\n",
        "plt.xlabel('Age')\n",
        "plt.ylabel('BMI')\n",
        "plt.legend(title='Outcome')\n",
        "plt.tight_layout()\n",
        "plt.show()"
      ],
      "metadata": {
        "id": "jzuebET-M7vu"
      },
      "execution_count": null,
      "outputs": []
    },
    {
      "cell_type": "code",
      "source": [
        "\n",
        "# Now plot\n",
        "plt.figure(figsize=(8, 5))\n",
        "sns.countplot(data=diabetes_prediction, x='outcome', palette='Set2')\n",
        "plt.title('Diabetic vs Non-diabetic Distribution')\n",
        "plt.xlabel('Outcome')\n",
        "plt.ylabel('Count')\n",
        "plt.tight_layout()\n",
        "plt.show()\n"
      ],
      "metadata": {
        "id": "hQ0XtXqFSDS3"
      },
      "execution_count": null,
      "outputs": []
    },
    {
      "cell_type": "markdown",
      "source": [
        "# **Data Pivoting and Data aggregation**"
      ],
      "metadata": {
        "id": "IlC2VZilOhUH"
      }
    },
    {
      "cell_type": "code",
      "source": [
        "# Pivot table for average Glucose by Outcome\n",
        "pivot_glucose = diabetes_prediction.pivot_table(values='glucose', columns='outcome', aggfunc='mean')\n",
        "print(\"Average Glucose Levels by Outcome:\")\n",
        "pivot_glucose\n"
      ],
      "metadata": {
        "id": "dEJmqRUoOkfx"
      },
      "execution_count": null,
      "outputs": []
    },
    {
      "cell_type": "code",
      "source": [
        "# Pivot table for average BMI by Outcome\n",
        "pivot_bmi = diabetes_prediction.pivot_table(values='bmi', columns='outcome', aggfunc='mean')\n",
        "print(\"\\nAverage BMI by Outcome:\")\n",
        "pivot_bmi\n"
      ],
      "metadata": {
        "id": "lH7_8SuBOrKB"
      },
      "execution_count": null,
      "outputs": []
    },
    {
      "cell_type": "code",
      "source": [
        "\n",
        "# Pivot table for average Age by Outcome\n",
        "pivot_age = diabetes_prediction.pivot_table(values='age', columns='outcome', aggfunc='mean')\n",
        "print(\"\\nAverage Age by Outcome:\")\n",
        "pivot_age\n"
      ],
      "metadata": {
        "id": "pRcIuqalOztI"
      },
      "execution_count": null,
      "outputs": []
    },
    {
      "cell_type": "code",
      "source": [
        "# Pivot table for average Insulin by Outcome\n",
        "pivot_insulin = diabetes_prediction.pivot_table(values='insulin', columns='outcome', aggfunc='mean')\n",
        "print(\"\\nAverage Insulin by Outcome:\")\n",
        "pivot_insulin"
      ],
      "metadata": {
        "id": "FZKY90AXO10G"
      },
      "execution_count": null,
      "outputs": []
    },
    {
      "cell_type": "markdown",
      "source": [
        "# **Conclusion**"
      ],
      "metadata": {
        "id": "_cvE6TTfQjN6"
      }
    },
    {
      "cell_type": "markdown",
      "source": [
        "In conclusion, this diabetes prediction project has successfully demonstrated the potential of data analysis and machine learning in understanding and predicting the onset of diabetes. By leveraging various visualizations, pivot tables, and data transformation techniques, we were able to gain valuable insights into the key factors influencing diabetes. The analysis highlighted the importance of variables such as age, BMI, and glucose levels, which showed strong correlations with the likelihood of developing diabetes.\n",
        "\n",
        "The predictive model developed during this project offers a promising approach to early diagnosis and intervention. While the model’s performance can always be improved with more data and advanced techniques, it serves as a foundation for creating tools that could assist healthcare professionals in identifying at-risk individuals. Ultimately, this project contributes to the growing body of work aimed at combating diabetes, with the potential to improve patient outcomes through earlier detection and targeted prevention strategies."
      ],
      "metadata": {
        "id": "tCscoPVlQn8W"
      }
    },
    {
      "cell_type": "code",
      "source": [],
      "metadata": {
        "id": "ZjimHSQVQlXU"
      },
      "execution_count": null,
      "outputs": []
    }
  ]
}
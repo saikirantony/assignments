{
  "cells": [
    {
      "cell_type": "markdown",
      "metadata": {
        "id": "view-in-github",
        "colab_type": "text"
      },
      "source": [
        "<a href=\"https://colab.research.google.com/github/saikirantony/assignments/blob/main/midterm.ipynb\" target=\"_parent\"><img src=\"https://colab.research.google.com/assets/colab-badge.svg\" alt=\"Open In Colab\"/></a>"
      ]
    },
    {
      "cell_type": "markdown",
      "metadata": {
        "id": "Is6HWJF4eNd8"
      },
      "source": [
        "### Mid-term for HDS5210\n",
        "\n",
        "Your supervisor is concerned about 4-year survival risks for COPD. She has asked for you to do some analysis using a new metric, BODE. BODE is an improvement on a previous metric and promises to provide insight on survival risks.\n",
        "\n",
        "BODE is defined here. https://www.mdcalc.com/calc/3916/bode-index-copd-survival#evidence\n",
        "\n",
        "Your assignment is to create a BODE calculation, use it to calculate BODE scores and BODE survival rates for a group of patients. Then we want to evaluate the average BODE scores and BODE survival rates for each area hospital.\n",
        "\n",
        "Your patient input file will have the following columns:\n",
        "NAME,SSN,LANGUAGE,JOB,HEIGHT_M,WEIGHT_KG,fev_pct,dyspnea_description,distance_in_meters,hospital\n",
        "\n",
        "BODE calculations require a BMI value, so you will have to create a function for it.\n",
        "\n",
        "Your output should be in the form of two CSV files, patient_output.csv and hospital_output.csv.\n",
        "\n",
        "Patient_output will have the following columns:\n",
        "NAME,BODE_SCORE,BODE_RISK,HOSPITAL\n",
        "\n",
        "Hospital output will have the following columns:\n",
        "HOSPITAL_NAME, COPD_COUNT, PCT_OF_COPD_CASES_OVER_BEDS, AVG_SCORE, AVG_RISK\n",
        "\n",
        "Each function you create should have documentation and a suitable number of test cases. If the input data could be wrong, make sure to raise a Value Error.\n",
        "\n",
        "For this assignment, use the doctest, json, and csv libraries. Pandas is not allowed for this assignment."
      ]
    },
    {
      "cell_type": "code",
      "execution_count": 55,
      "metadata": {
        "id": "GhXEONSueNd-"
      },
      "outputs": [],
      "source": [
        "import doctest\n",
        "import json\n",
        "import csv"
      ]
    },
    {
      "cell_type": "markdown",
      "metadata": {
        "id": "7_25TD0CeNd-"
      },
      "source": [
        "### Step 1: Calculate BMI"
      ]
    },
    {
      "cell_type": "code",
      "execution_count": 56,
      "metadata": {
        "id": "Sl1quxAYeNd_"
      },
      "outputs": [],
      "source": [
        "def compute_body_mass_index(mass_kg, height_meters):\n",
        "    \"\"\"\n",
        "    Calculates Body Mass Index (BMI).\n",
        "\n",
        "    Args:\n",
        "        mass_kg (float): Body mass in kilograms.\n",
        "        height_meters (float): Height in meters.\n",
        "\n",
        "    Returns:\n",
        "        float: The calculated BMI, rounded to two decimal places.\n",
        "\n",
        "    Raises:\n",
        "        ValueError: If height_meters or mass_kg is less than or equal to 0.\n",
        "    \"\"\"\n",
        "    if height_meters <= 0 or mass_kg <= 0:\n",
        "        raise ValueError(\"Height and weight must be positive numbers.\")\n",
        "    bmi_value = mass_kg / (height_meters ** 2)\n",
        "    return round(bmi_value, 2)\n"
      ]
    },
    {
      "cell_type": "markdown",
      "metadata": {
        "id": "4ZfpeGZ5eNd_"
      },
      "source": [
        "### Step 2: Calculate BODE Score"
      ]
    },
    {
      "cell_type": "code",
      "execution_count": 57,
      "metadata": {
        "id": "TdvVKiHteNd_"
      },
      "outputs": [],
      "source": [
        "def normalize_dyspnea_description(description):\n",
        "    \"\"\"\n",
        "    These are used because the dataset contains these values in the dyspnea_description\n",
        "\n",
        "    Normalize variations of dyspnea descriptions to fit known categories.\n",
        "\n",
        "    >>> normalize_dyspnea_description(\"STOPS AFTER A FEW MINUTES\")\n",
        "    'Severe breathlessness'\n",
        "\n",
        "    >>> normalize_dyspnea_description(\"WHEN HURRYING\")\n",
        "    'Moderate breathlessness'\n",
        "    \"\"\"\n",
        "    description = description.upper().strip()\n",
        "    if \"STOPS AFTER A FEW MINUTES\" in description:\n",
        "        return \"Severe breathlessness\"\n",
        "    elif \"WHEN HURRYING\" in description:\n",
        "        return \"Moderate breathlessness\"\n",
        "    elif \"UNABLE TO LEAVE HOME\" in description:\n",
        "        return \"Severe breathlessness\"\n",
        "    elif \"SLOWER THAN PEERS\" in description:\n",
        "        return \"Moderate breathlessness\"\n",
        "    elif \"WALKING UPHILL\" in description:\n",
        "        return \"Moderate breathlessness\"\n",
        "    elif \"ONLY STRENUOUS EXERCISE\" in description:\n",
        "        return \"Mild breathlessness\"\n",
        "    elif \"BREATHLESS WHEN DRESSING\" in description:\n",
        "        return \"Severe breathlessness\"\n",
        "    elif \"STOPS WHEN WALKING AT PACE\" in description:\n",
        "        return \"Severe breathlessness\"\n",
        "    elif \"STOPS AFTER 100 YARDS\" in description:\n",
        "        return \"Severe breathlessness\"\n",
        "    return description\n",
        "\n",
        "def calculate_bode_score(bmi, fev_pct, dyspnea_description, distance_in_meters):\n",
        "    \"\"\"\n",
        "    Calculate the BODE score based on BMI, FEV1 percentage, dyspnea description, and distance in meters.\n",
        "\n",
        "    >>> calculate_bode_score(22, 70, 'ONLY STRENUOUS EXERCISE', 400)\n",
        "    1\n",
        "    >>> calculate_bode_score(18, 40, 'STOPS WHEN WALKING AT PACE', 200)\n",
        "    8\n",
        "    \"\"\"\n",
        "    bode_score = 0\n",
        "\n",
        "    # Calculate BMI score\n",
        "    if bmi > 21:\n",
        "        bode_score += 0\n",
        "    else:\n",
        "        bode_score += 1\n",
        "\n",
        "    # Calculate FEV1 score\n",
        "    if fev_pct >= 65:\n",
        "        bode_score += 0\n",
        "    elif 50 <= fev_pct < 65:\n",
        "        bode_score += 1\n",
        "    elif 36 <= fev_pct < 50:\n",
        "        bode_score += 2\n",
        "    else:\n",
        "        bode_score += 3\n",
        "\n",
        "    # driscribing dyspnea description and maping it to a score\n",
        "    dyspnea_description = normalize_dyspnea_description(dyspnea_description)\n",
        "    dyspnea_mapping = {\n",
        "        \"No breathlessness\": 0,\n",
        "        \"Mild breathlessness\": 1,\n",
        "        \"Moderate breathlessness\": 2,\n",
        "        \"Severe breathlessness\": 3,\n",
        "    }\n",
        "\n",
        "    dyspnea_score = dyspnea_mapping.get(dyspnea_description, None)\n",
        "    if dyspnea_score is None:\n",
        "        print(f\"Invalid dyspnea description: {dyspnea_description}\")\n",
        "        raise ValueError(\"Invalid dyspnea description.\")\n",
        "\n",
        "    bode_score += dyspnea_score\n",
        "\n",
        "    # Calculating the distance walked score\n",
        "    if distance_in_meters > 350:\n",
        "        bode_score += 0\n",
        "    elif 250 <= distance_in_meters <= 350:\n",
        "        bode_score += 1\n",
        "    elif 150 <= distance_in_meters < 250:\n",
        "        bode_score += 2\n",
        "    else:\n",
        "        bode_score += 3\n",
        "\n",
        "    return bode_score"
      ]
    },
    {
      "cell_type": "markdown",
      "metadata": {
        "id": "85354rn6eNd_"
      },
      "source": [
        "### Step 3: Calculate BODE Risk"
      ]
    },
    {
      "cell_type": "code",
      "execution_count": 58,
      "metadata": {
        "id": "jKB1mUQHeNd_"
      },
      "outputs": [],
      "source": [
        "def calculate_bode_risk(bode_score):\n",
        "    # Determining the survival rate based on the BODE score\n",
        "    if 0 <= bode_score <= 2:\n",
        "        survival_rate = 80  # 80% survival, 20% risk\n",
        "    elif 3 <= bode_score <= 4:\n",
        "        survival_rate = 67  # 67% survival, 33% risk\n",
        "    elif 5 <= bode_score <= 6:\n",
        "        survival_rate = 57  # 57% survival, 43% risk\n",
        "    elif 7 <= bode_score <= 10:\n",
        "        survival_rate = 18  # 18% survival, 82% risk\n",
        "    else:\n",
        "        raise ValueError(f\"Invalid BODE score: {bode_score}\")\n",
        "\n",
        "    # Calculate the risk percentage\n",
        "    risk_percentage = 100 - survival_rate\n",
        "    return risk_percentage\n"
      ]
    },
    {
      "cell_type": "markdown",
      "metadata": {
        "id": "m0ha8aSYeNd_"
      },
      "source": [
        "### Step 4: Load Hospital Data"
      ]
    },
    {
      "cell_type": "code",
      "source": [
        "import json\n",
        "\n",
        "def load_hospital_data(json_file):\n",
        "    \"\"\"\n",
        "    Load hospital data from a JSON file.\n",
        "\n",
        "    Parameters:\n",
        "    json_file (str): The path to the JSON file containing hospital data.\n",
        "\n",
        "    Returns:\n",
        "    dict or None: The data loaded from the JSON file, or None if an error occurs.\n",
        "\n",
        "    Raises:\n",
        "    FileNotFoundError: If the specified file does not exist.\n",
        "    json.JSONDecodeError: If the file is not a valid JSON.\n",
        "    \"\"\"\n",
        "    try:\n",
        "        with open(json_file, 'r') as file:\n",
        "            data = json.load(file)\n",
        "            return data\n",
        "    except FileNotFoundError:\n",
        "        print(f\"Error: The file '{json_file}' was not found.\")\n",
        "        return None\n",
        "    except json.JSONDecodeError:\n",
        "        print(f\"Error: The file '{json_file}' is not a valid JSON.\")\n",
        "        return None\n",
        "    except Exception as e:\n",
        "        print(f\"An unexpected error occurred: {e}\")\n",
        "        return None\n"
      ],
      "metadata": {
        "id": "mzfEgZM8oBsK"
      },
      "execution_count": 59,
      "outputs": []
    },
    {
      "cell_type": "code",
      "source": [
        "import csv\n",
        "\n",
        "def load_dyspnea_descriptions(csv_file):\n",
        "    \"\"\"\n",
        "    Load unique dyspnea descriptions from a CSV file.\n",
        "\n",
        "    Parameters:\n",
        "    csv_file (str): The path to the CSV file containing patient data.\n",
        "\n",
        "    Returns:\n",
        "    set: A set of unique dyspnea descriptions.\n",
        "\n",
        "    Raises:\n",
        "    FileNotFoundError: If the specified file does not exist.\n",
        "    \"\"\"\n",
        "    dyspnea_descriptions = set()\n",
        "\n",
        "    try:\n",
        "        with open(csv_file, 'r') as csvfile:\n",
        "            reader = csv.DictReader(csvfile)\n",
        "            for row in reader:\n",
        "                # Check if the 'dyspnea_description' key exists in the row\n",
        "                if 'dyspnea_description' in row:\n",
        "                    dyspnea_descriptions.add(row['dyspnea_description'])\n",
        "                else:\n",
        "                    print(\"Warning: 'dyspnea_description' column is missing in some rows.\")\n",
        "    except FileNotFoundError:\n",
        "        print(f\"Error: The file '{csv_file}' was not found.\")\n",
        "\n",
        "    return dyspnea_descriptions\n",
        "\n",
        "# read dyspnea descriptions from the CSV file\n",
        "descriptions = load_dyspnea_descriptions('patient.csv')\n",
        "\n",
        "# Print the different types of dyspnea descriptions\n",
        "print(\"Different types of dyspnea descriptions in the dataset:\")\n",
        "for description in descriptions:\n",
        "    print(description)"
      ],
      "metadata": {
        "colab": {
          "base_uri": "https://localhost:8080/"
        },
        "id": "Y6sfX3inOlq1",
        "outputId": "a2e7da57-9a61-43d0-b627-27168aac87c3"
      },
      "execution_count": 60,
      "outputs": [
        {
          "output_type": "stream",
          "name": "stdout",
          "text": [
            "Different types of dyspnea descriptions in the dataset:\n",
            "WALKING UPHILL\n",
            "BREATHLESS WHEN DRESSING\n",
            "STOPS AFTER A FEW MINUTES\n",
            "UNABLE TO LEAVE HOME\n",
            "STOPS WHEN WALKING AT PACE\n",
            "STOPS AFTER 100 YARDS\n",
            "WHEN HURRYING\n",
            "ONLY STRENUOUS EXERCISE\n",
            "SLOWER THAN PEERS\n"
          ]
        }
      ]
    },
    {
      "cell_type": "markdown",
      "metadata": {
        "id": "CEoTkwXNeNeA"
      },
      "source": [
        "### Step 5: Main business logic\n",
        "\n",
        "Call BODE Score, BODE Risk functions for each patient.\n",
        "\n",
        "For each hospital, calculate Avg BODE score and Avg BODE risk and count the number of cases for each hospital."
      ]
    },
    {
      "cell_type": "code",
      "execution_count": 61,
      "metadata": {
        "id": "6gX4C1MHeNeA"
      },
      "outputs": [],
      "source": [
        "patient_csv = \"patient.csv\"\n",
        "hospital_json = \"hospitals.json\"\n",
        "\n",
        "patient_output_file = \"patient_output.csv\"\n",
        "hospital_output_file = \"hospital_output.csv\"\n",
        "\n",
        "# Load hospital data\n",
        "hospital_data = load_hospital_data(hospital_json)\n",
        "\n",
        "# Initialize the hospital metrics dictionary using the hospital names from the JSON data\n",
        "hospital_metrics = {}\n",
        "for entry in hospital_data:\n",
        "    # Iterate over the hospitals list within the entry\n",
        "    for hospital in entry['hospitals']:\n",
        "        hospital_metrics[hospital['name']] = {\n",
        "            'total_bode_score': 0,\n",
        "            'total_risk': 0,\n",
        "            'copd_count': 0,\n",
        "            'beds': hospital['beds']\n",
        "        }\n",
        "\n",
        "patient_results = []\n",
        "\n",
        "# Read patient data from the CSV file\n",
        "with open(patient_csv, 'r') as csvfile:\n",
        "    reader = csv.DictReader(csvfile)\n",
        "    for row in reader:\n",
        "        name = row['NAME']\n",
        "        ssn = row['SSN']\n",
        "        language = row['LANGUAGE']\n",
        "        job = row['JOB']\n",
        "        height_m = float(row['HEIGHT_M'])\n",
        "        weight_kg = float(row['WEIGHT_KG'])\n",
        "        fev_pct = float(row['fev_pct'])\n",
        "        dyspnea_description = row['dyspnea_description']\n",
        "        distance_in_meters = float(row['distance_in_meters'])\n",
        "        hospital_name = row['hospital']\n",
        "\n",
        "        # Calculate BMI, BODE score, and BODE risk\n",
        "        bmi = compute_body_mass_index(weight_kg, height_m)\n",
        "        bode_score = calculate_bode_score(bmi, fev_pct, dyspnea_description, distance_in_meters)\n",
        "        bode_risk = calculate_bode_risk(bode_score)\n",
        "\n",
        "        # Add patient results\n",
        "        patient_results.append([name, bode_score, bode_risk, hospital_name])\n",
        "\n",
        "        # Update hospital metrics\n",
        "        if hospital_name in hospital_metrics:\n",
        "            hospital_metrics[hospital_name]['total_bode_score'] += bode_score\n",
        "            hospital_metrics[hospital_name]['total_risk'] += 1\n",
        "            hospital_metrics[hospital_name]['copd_count'] += 1\n",
        "\n",
        "hospital_output_list = []\n",
        "\n",
        "# Calculate hospital metrics\n",
        "for hospital_name, metrics in hospital_metrics.items():\n",
        "    copd_count = metrics['copd_count']\n",
        "    avg_bode_score = metrics['total_bode_score'] / copd_count if copd_count > 0 else 0\n",
        "    avg_bode_risk = metrics['total_risk'] / copd_count if copd_count > 0 else 0\n",
        "    pct_of_copd_cases = (copd_count / metrics['beds']) * 100 if metrics['beds'] > 0 else 0\n",
        "    hospital_output_list.append([hospital_name, copd_count, pct_of_copd_cases, avg_bode_score, avg_bode_risk])\n",
        "\n",
        "# Write Patient_output.csv\n",
        "with open(patient_output_file, 'w', newline='') as csvfile:\n",
        "    writer = csv.writer(csvfile)\n",
        "    writer.writerow([\"NAME\", \"BODE_SCORE\", \"BODE_RISK\", \"HOSPITAL\"])\n",
        "    writer.writerows(patient_results)\n",
        "\n",
        "# Write Hospital_output.csv\n",
        "with open(hospital_output_file, 'w', newline='') as csvfile:\n",
        "    writer = csv.writer(csvfile)\n",
        "    writer.writerow([\"HOSPITAL_NAME\", \"COPD_COUNT\", \"PCT_OF_COPD_CASES_OVER_BEDS\", \"AVG_SCORE\", \"AVG_RISK\"])\n",
        "    writer.writerows(hospital_output_list)\n"
      ]
    },
    {
      "cell_type": "code",
      "source": [],
      "metadata": {
        "id": "mSpQSJCmQDpx"
      },
      "execution_count": 61,
      "outputs": []
    }
  ],
  "metadata": {
    "language_info": {
      "name": "python"
    },
    "colab": {
      "provenance": [],
      "include_colab_link": true
    },
    "kernelspec": {
      "name": "python3",
      "display_name": "Python 3"
    }
  },
  "nbformat": 4,
  "nbformat_minor": 0
}
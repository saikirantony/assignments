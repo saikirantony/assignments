{
  "cells": [
    {
      "cell_type": "markdown",
      "metadata": {
        "id": "uJrg85FMb97s"
      },
      "source": [
        "# Week 7 Assignment\n",
        "\n",
        "We've been working with different types of data structures in Python (dictionary, list, etc), how those are represented in JSON documents, and how to write code to access specific data elements. In this week's assignment, you will need to create your own JSON document to store information about yourself and the grades you've received from week 1 to week 4 and the week 6 quiz.  That is, everything you should have received a grade for.  Then you'll need to show me you know how to navigate the JSON in that file.\n",
        "\n",
        "Different from what we've done in the past, you do not have to write any functions or include any docstrings.  Just create some JSON and write some code.\n",
        "\n",
        "---"
      ]
    },
    {
      "cell_type": "markdown",
      "metadata": {
        "id": "2GFoyDteb97t"
      },
      "source": [
        "## 7.1 Create a JSON file\n",
        "\n",
        "Create a JSON file that contains your name, email, year you were born, all of the grades you've received back so far, and a comment about what you thought was most challenging on each of those assignments.  This can be any structure you choose, but make sure it uses a dictionary and a list, and has at least two levels of hierarchy.  That is, it can't just be one big long list."
      ]
    },
    {
      "cell_type": "markdown",
      "metadata": {
        "id": "UVWO-pYYb97t"
      },
      "source": [
        "First, explain how your data structure is going to look..."
      ]
    },
    {
      "cell_type": "markdown",
      "metadata": {
        "id": "_1mLOIUNb97u"
      },
      "source": [
        "* Put your explanation here in text..."
      ]
    },
    {
      "cell_type": "markdown",
      "metadata": {
        "id": "m0lrL836b97u"
      },
      "source": [
        "Then put the actual JSON you've created inside the multiline string below..."
      ]
    },
    {
      "cell_type": "code",
      "execution_count": 4,
      "metadata": {
        "id": "-5d_TBxGb97u"
      },
      "outputs": [],
      "source": [
        "hds5210 = \"\"\"\n",
        "import json\n",
        "\n",
        "# Data for Sai Kiran with favorite games\n",
        "data = {\n",
        "    \"name\": \"Sai Kiran\",\n",
        "    \"email\": \"sai.kiran@example.com\",\n",
        "    \"year_of_birth\": \"1995\",\n",
        "    \"bachelors\": \"Bachelor of Computer Science\",\n",
        "    \"favorite_games\": [\n",
        "        {\n",
        "            \"game\": \"Cricket\",\n",
        "            \"rating\": 9,\n",
        "            \"comment\": \"I love playing cricket with my friends during weekends.\"\n",
        "        },\n",
        "        {\n",
        "            \"game\": \"Football\",\n",
        "            \"rating\": 8,\n",
        "            \"comment\": \"Football is exciting, especially when playing in a team.\"\n",
        "        },\n",
        "        {\n",
        "            \"game\": \"Badminton\",\n",
        "            \"rating\": 10,\n",
        "            \"comment\": \"I enjoy playing badminton as it keeps me fit.\"\n",
        "        },\n",
        "        {\n",
        "            \"game\": \"Table Tennis\",\n",
        "            \"rating\": 7,\n",
        "            \"comment\": \"Table tennis is fun but requires quick reflexes.\"\n",
        "        }\n",
        "    ]\n",
        "}\n",
        "\n",
        "# Specify the filename\n",
        "filename = 'sai_kiran.json'\n",
        "\n",
        "# Write the data to a JSON file\n",
        "with open(filename, 'w') as json_file:\n",
        "    json.dump(data, json_file, indent=4)\n",
        "\n",
        "print(f\"JSON file '{filename}' created successfully!\")\n",
        "\"\"\""
      ]
    },
    {
      "cell_type": "markdown",
      "metadata": {
        "id": "6rGefrDib97v"
      },
      "source": [
        "## 7.2 Do something with your JSON\n",
        "\n",
        "Now use Python code to do something with the Json above.  Turn it into English text, but make sure that you use at least one loop to access some dict or list content of your JSON.  Below, I've provided some basic code to read in the string above as JSON and return a Python object.  Your job is to work with that data structure and print out the important information like your name, email, and how you did on each assignment."
      ]
    },
    {
      "cell_type": "code",
      "execution_count": 5,
      "metadata": {
        "id": "ZwXpytiBb97v",
        "outputId": "d40220f5-2c7c-41d3-d59b-1f67610ed090",
        "colab": {
          "base_uri": "https://localhost:8080/",
          "height": 139
        }
      },
      "outputs": [
        {
          "output_type": "execute_result",
          "data": {
            "text/plain": [
              "'import json\\n\\ninfo = json.loads(hds5210)\\n# Put your code to output a paragraph of English text here\\nimport json\\n\\n# Data for Indian cricket players and their famous scores\\ndata = {\\n    \"favorite_game\": \"Cricket\",\\n    \"players\": [\\n        {\\n            \"name\": \"Sachin Tendulkar\",\\n            \"famous_score\": 200,\\n            \"comment\": \"The first player to score a double century in ODI cricket.\"\\n        },\\n        {\\n            \"name\": \"Virat Kohli\",\\n            \"famous_score\": 183,\\n            \"comment\": \"His highest ODI score, achieved against Pakistan in the 2015 World Cup.\"\\n        },\\n        {\\n            \"name\": \"MS Dhoni\",\\n            \"famous_score\": 183,\\n            \"comment\": \"Incredible innings against Sri Lanka, showcasing his finishing ability.\"\\n        },\\n        {\\n            \"name\": \"Rohit Sharma\",\\n            \"famous_score\": 264,\\n            \"comment\": \"Holds the record for the highest individual score in ODI cricket.\"\\n        },\\n        {\\n            \"name\": \"Kapil Dev\",\\n            \"famous_score\": 175,\\n            \"comment\": \"An iconic innings in the 1983 World Cup that led India to victory.\"\\n        }\\n    ]\\n}\\n\\n# Specify the filename\\nfilename = \\'indian_cricket_players.json\\'\\n\\n# Write the data to a JSON file\\nwith open(filename, \\'w\\') as json_file:\\n    json.dump(data, json_file, indent=4)\\n\\nprint(f\"JSON file \\'{filename}\\' created successfully!\")'"
            ],
            "application/vnd.google.colaboratory.intrinsic+json": {
              "type": "string"
            }
          },
          "metadata": {},
          "execution_count": 5
        }
      ],
      "source": [
        "\"\"\"import json\n",
        "\n",
        "info = json.loads(hds5210)\n",
        "# Put your code to output a paragraph of English text here\n",
        "import json\n",
        "\n",
        "# Data for Indian cricket players and their famous scores\n",
        "data = {\n",
        "    \"favorite_game\": \"Cricket\",\n",
        "    \"players\": [\n",
        "        {\n",
        "            \"name\": \"Sachin Tendulkar\",\n",
        "            \"famous_score\": 200,\n",
        "            \"comment\": \"The first player to score a double century in ODI cricket.\"\n",
        "        },\n",
        "        {\n",
        "            \"name\": \"Virat Kohli\",\n",
        "            \"famous_score\": 183,\n",
        "            \"comment\": \"His highest ODI score, achieved against Pakistan in the 2015 World Cup.\"\n",
        "        },\n",
        "        {\n",
        "            \"name\": \"MS Dhoni\",\n",
        "            \"famous_score\": 183,\n",
        "            \"comment\": \"Incredible innings against Sri Lanka, showcasing his finishing ability.\"\n",
        "        },\n",
        "        {\n",
        "            \"name\": \"Rohit Sharma\",\n",
        "            \"famous_score\": 264,\n",
        "            \"comment\": \"Holds the record for the highest individual score in ODI cricket.\"\n",
        "        },\n",
        "        {\n",
        "            \"name\": \"Kapil Dev\",\n",
        "            \"famous_score\": 175,\n",
        "            \"comment\": \"An iconic innings in the 1983 World Cup that led India to victory.\"\n",
        "        }\n",
        "    ]\n",
        "}\n",
        "\n",
        "# Specify the filename\n",
        "filename = 'indian_cricket_players.json'\n",
        "\n",
        "# Write the data to a JSON file\n",
        "with open(filename, 'w') as json_file:\n",
        "    json.dump(data, json_file, indent=4)\n",
        "\n",
        "print(f\"JSON file '{filename}' created successfully!\")\"\"\""
      ]
    },
    {
      "cell_type": "markdown",
      "metadata": {
        "id": "xAZ9Ume2b97v"
      },
      "source": [
        "## 7.3 Reflect\n",
        "\n",
        "Write a paragraph on any reflections you have. Was this hard? Easy?  What parts were most challenging or easiest? What did you like or dislike about the assignment?  Share whatever important thoughts you have abou this assignment."
      ]
    },
    {
      "cell_type": "markdown",
      "metadata": {
        "id": "SHXkf1Bnb97v"
      },
      "source": [
        "* Put your response here"
      ]
    },
    {
      "cell_type": "markdown",
      "source": [
        "Working with JSON and Python in Google Colab was a mix of ease and challenge. JSON's structured format makes it easy to read and work with, and Python's `json` library simplifies parsing and manipulating data. However, challenges arise with deeply nested JSON structures, where managing and accessing data becomes more complex. Colab's cloud-based environment is convenient for executing Python code without local setup, but it can be resource-limited when handling large datasets or long processes. Overall, I enjoyed the interactivity of Colab and the flexibility Python offers in dealing with JSON, though some aspects, like debugging complex structures or managing performance, were more difficult than expected. The experience was rewarding but required attention to detail."
      ],
      "metadata": {
        "id": "uGKgZMRXigtX"
      }
    },
    {
      "cell_type": "markdown",
      "metadata": {
        "id": "GaO0HiG0b97v"
      },
      "source": [
        "---\n",
        "\n",
        "# Example\n",
        "\n",
        "Below is an example of something similar, but this uses information my and my friend's kids instead of grades."
      ]
    },
    {
      "cell_type": "code",
      "execution_count": 6,
      "metadata": {
        "id": "NNXd6_90b97v",
        "outputId": "63415c40-47a1-4a7f-c520-7bd89e4c4df6",
        "colab": {
          "base_uri": "https://localhost:8080/",
          "height": 356
        }
      },
      "outputs": [
        {
          "output_type": "error",
          "ename": "JSONDecodeError",
          "evalue": "Expecting property name enclosed in double quotes: line 4 column 1 (char 7)",
          "traceback": [
            "\u001b[0;31m---------------------------------------------------------------------------\u001b[0m",
            "\u001b[0;31mJSONDecodeError\u001b[0m                           Traceback (most recent call last)",
            "\u001b[0;32m<ipython-input-6-a3aa68653b2a>\u001b[0m in \u001b[0;36m<cell line: 8>\u001b[0;34m()\u001b[0m\n\u001b[1;32m      6\u001b[0m \u001b[0;32mimport\u001b[0m \u001b[0mjson\u001b[0m\u001b[0;34m\u001b[0m\u001b[0;34m\u001b[0m\u001b[0m\n\u001b[1;32m      7\u001b[0m \u001b[0;34m\u001b[0m\u001b[0m\n\u001b[0;32m----> 8\u001b[0;31m \u001b[0minfo\u001b[0m \u001b[0;34m=\u001b[0m \u001b[0mjson\u001b[0m\u001b[0;34m.\u001b[0m\u001b[0mloads\u001b[0m\u001b[0;34m(\u001b[0m\u001b[0mhds5210\u001b[0m\u001b[0;34m)\u001b[0m\u001b[0;34m\u001b[0m\u001b[0;34m\u001b[0m\u001b[0m\n\u001b[0m\u001b[1;32m      9\u001b[0m \u001b[0;34m\u001b[0m\u001b[0m\n\u001b[1;32m     10\u001b[0m \u001b[0mme\u001b[0m \u001b[0;34m=\u001b[0m \u001b[0minfo\u001b[0m\u001b[0;34m[\u001b[0m\u001b[0;34m\"me\"\u001b[0m\u001b[0;34m]\u001b[0m\u001b[0;34m[\u001b[0m\u001b[0;34m\"name\"\u001b[0m\u001b[0;34m]\u001b[0m\u001b[0;34m\u001b[0m\u001b[0;34m\u001b[0m\u001b[0m\n",
            "\u001b[0;32m/usr/lib/python3.10/json/__init__.py\u001b[0m in \u001b[0;36mloads\u001b[0;34m(s, cls, object_hook, parse_float, parse_int, parse_constant, object_pairs_hook, **kw)\u001b[0m\n\u001b[1;32m    344\u001b[0m             \u001b[0mparse_int\u001b[0m \u001b[0;32mis\u001b[0m \u001b[0;32mNone\u001b[0m \u001b[0;32mand\u001b[0m \u001b[0mparse_float\u001b[0m \u001b[0;32mis\u001b[0m \u001b[0;32mNone\u001b[0m \u001b[0;32mand\u001b[0m\u001b[0;34m\u001b[0m\u001b[0;34m\u001b[0m\u001b[0m\n\u001b[1;32m    345\u001b[0m             parse_constant is None and object_pairs_hook is None and not kw):\n\u001b[0;32m--> 346\u001b[0;31m         \u001b[0;32mreturn\u001b[0m \u001b[0m_default_decoder\u001b[0m\u001b[0;34m.\u001b[0m\u001b[0mdecode\u001b[0m\u001b[0;34m(\u001b[0m\u001b[0ms\u001b[0m\u001b[0;34m)\u001b[0m\u001b[0;34m\u001b[0m\u001b[0;34m\u001b[0m\u001b[0m\n\u001b[0m\u001b[1;32m    347\u001b[0m     \u001b[0;32mif\u001b[0m \u001b[0mcls\u001b[0m \u001b[0;32mis\u001b[0m \u001b[0;32mNone\u001b[0m\u001b[0;34m:\u001b[0m\u001b[0;34m\u001b[0m\u001b[0;34m\u001b[0m\u001b[0m\n\u001b[1;32m    348\u001b[0m         \u001b[0mcls\u001b[0m \u001b[0;34m=\u001b[0m \u001b[0mJSONDecoder\u001b[0m\u001b[0;34m\u001b[0m\u001b[0;34m\u001b[0m\u001b[0m\n",
            "\u001b[0;32m/usr/lib/python3.10/json/decoder.py\u001b[0m in \u001b[0;36mdecode\u001b[0;34m(self, s, _w)\u001b[0m\n\u001b[1;32m    335\u001b[0m \u001b[0;34m\u001b[0m\u001b[0m\n\u001b[1;32m    336\u001b[0m         \"\"\"\n\u001b[0;32m--> 337\u001b[0;31m         \u001b[0mobj\u001b[0m\u001b[0;34m,\u001b[0m \u001b[0mend\u001b[0m \u001b[0;34m=\u001b[0m \u001b[0mself\u001b[0m\u001b[0;34m.\u001b[0m\u001b[0mraw_decode\u001b[0m\u001b[0;34m(\u001b[0m\u001b[0ms\u001b[0m\u001b[0;34m,\u001b[0m \u001b[0midx\u001b[0m\u001b[0;34m=\u001b[0m\u001b[0m_w\u001b[0m\u001b[0;34m(\u001b[0m\u001b[0ms\u001b[0m\u001b[0;34m,\u001b[0m \u001b[0;36m0\u001b[0m\u001b[0;34m)\u001b[0m\u001b[0;34m.\u001b[0m\u001b[0mend\u001b[0m\u001b[0;34m(\u001b[0m\u001b[0;34m)\u001b[0m\u001b[0;34m)\u001b[0m\u001b[0;34m\u001b[0m\u001b[0;34m\u001b[0m\u001b[0m\n\u001b[0m\u001b[1;32m    338\u001b[0m         \u001b[0mend\u001b[0m \u001b[0;34m=\u001b[0m \u001b[0m_w\u001b[0m\u001b[0;34m(\u001b[0m\u001b[0ms\u001b[0m\u001b[0;34m,\u001b[0m \u001b[0mend\u001b[0m\u001b[0;34m)\u001b[0m\u001b[0;34m.\u001b[0m\u001b[0mend\u001b[0m\u001b[0;34m(\u001b[0m\u001b[0;34m)\u001b[0m\u001b[0;34m\u001b[0m\u001b[0;34m\u001b[0m\u001b[0m\n\u001b[1;32m    339\u001b[0m         \u001b[0;32mif\u001b[0m \u001b[0mend\u001b[0m \u001b[0;34m!=\u001b[0m \u001b[0mlen\u001b[0m\u001b[0;34m(\u001b[0m\u001b[0ms\u001b[0m\u001b[0;34m)\u001b[0m\u001b[0;34m:\u001b[0m\u001b[0;34m\u001b[0m\u001b[0;34m\u001b[0m\u001b[0m\n",
            "\u001b[0;32m/usr/lib/python3.10/json/decoder.py\u001b[0m in \u001b[0;36mraw_decode\u001b[0;34m(self, s, idx)\u001b[0m\n\u001b[1;32m    351\u001b[0m         \"\"\"\n\u001b[1;32m    352\u001b[0m         \u001b[0;32mtry\u001b[0m\u001b[0;34m:\u001b[0m\u001b[0;34m\u001b[0m\u001b[0;34m\u001b[0m\u001b[0m\n\u001b[0;32m--> 353\u001b[0;31m             \u001b[0mobj\u001b[0m\u001b[0;34m,\u001b[0m \u001b[0mend\u001b[0m \u001b[0;34m=\u001b[0m \u001b[0mself\u001b[0m\u001b[0;34m.\u001b[0m\u001b[0mscan_once\u001b[0m\u001b[0;34m(\u001b[0m\u001b[0ms\u001b[0m\u001b[0;34m,\u001b[0m \u001b[0midx\u001b[0m\u001b[0;34m)\u001b[0m\u001b[0;34m\u001b[0m\u001b[0;34m\u001b[0m\u001b[0m\n\u001b[0m\u001b[1;32m    354\u001b[0m         \u001b[0;32mexcept\u001b[0m \u001b[0mStopIteration\u001b[0m \u001b[0;32mas\u001b[0m \u001b[0merr\u001b[0m\u001b[0;34m:\u001b[0m\u001b[0;34m\u001b[0m\u001b[0;34m\u001b[0m\u001b[0m\n\u001b[1;32m    355\u001b[0m             \u001b[0;32mraise\u001b[0m \u001b[0mJSONDecodeError\u001b[0m\u001b[0;34m(\u001b[0m\u001b[0;34m\"Expecting value\"\u001b[0m\u001b[0;34m,\u001b[0m \u001b[0ms\u001b[0m\u001b[0;34m,\u001b[0m \u001b[0merr\u001b[0m\u001b[0;34m.\u001b[0m\u001b[0mvalue\u001b[0m\u001b[0;34m)\u001b[0m \u001b[0;32mfrom\u001b[0m \u001b[0;32mNone\u001b[0m\u001b[0;34m\u001b[0m\u001b[0;34m\u001b[0m\u001b[0m\n",
            "\u001b[0;31mJSONDecodeError\u001b[0m: Expecting property name enclosed in double quotes: line 4 column 1 (char 7)"
          ]
        }
      ],
      "source": [
        "hds5210 = \"\"\"\n",
        "{\n",
        "\n",
        "\"\"\"\n",
        "\n",
        "import json\n",
        "\n",
        "info = json.loads(hds5210)\n",
        "\n",
        "me = info[\"me\"][\"name\"]\n",
        "my_kids_count = len(info[\"me\"][\"kids\"])\n",
        "kids_list = \", \".join(info[\"me\"][\"kids\"])\n",
        "friend = info[\"friend\"][\"name\"]\n",
        "friends_kid_count = len(info[\"friend\"][\"kids\"])\n",
        "friend_kids = \", \".join(info[\"friend\"][\"kids\"])\n",
        "compare = \"more\" if friends_kid_count > my_kids_count else \"fewer\"\n",
        "\n",
        "print(f\"Hi, my name is {me}. I've got {my_kids_count} kids. Their names are {kids_list}.\")\n",
        "print(f\"My friend, {friend} has {friends_kid_count} kids. That's {compare} than me. Their names are {friends_kid_count}\")"
      ]
    }
  ],
  "metadata": {
    "kernelspec": {
      "display_name": "Python 3",
      "language": "python",
      "name": "python3"
    },
    "language_info": {
      "codemirror_mode": {
        "name": "ipython",
        "version": 3
      },
      "file_extension": ".py",
      "mimetype": "text/x-python",
      "name": "python",
      "nbconvert_exporter": "python",
      "pygments_lexer": "ipython3",
      "version": "3.9.16"
    },
    "colab": {
      "provenance": []
    }
  },
  "nbformat": 4,
  "nbformat_minor": 0
}
{
  "cells": [
    {
      "cell_type": "markdown",
      "metadata": {
        "nbgrader": {
          "grade": false,
          "grade_id": "intro",
          "locked": true,
          "schema_version": 1,
          "solution": false
        },
        "id": "Fhl9v6HR21Eq"
      },
      "source": [
        "# Week 12 Assignment\n",
        "\n",
        "# PART 1 - Pivoting Data for Fun!\n",
        "\n",
        "In this exercise, we're going to work with data about condemned buildings in St. Louis.  This data set is in `/data/condemn.txt` in CSV format."
      ]
    },
    {
      "cell_type": "markdown",
      "metadata": {
        "nbgrader": {
          "grade": false,
          "grade_id": "q1-intro",
          "locked": true,
          "schema_version": 1,
          "solution": false
        },
        "id": "YNaD1DOi21Er"
      },
      "source": [
        "## STEP 1: Load and Filter data\n",
        "\n",
        "For this analysis, we want to look only at a relevent range of years and only years that are in teh past.  So, let's first take a look at the data between 1986 and 2014 (inclusive of those dates).\n",
        "\n",
        "At the end of this step, you should have a data frame loaded from the condemnations file and filtered down to only the data between 1986 and 2014.  Put that into a dataframe named `condemnations`\n",
        "\n",
        "**Some helpful notes:**\n",
        "* Use the columns `InspectDate` to filter this date range"
      ]
    },
    {
      "cell_type": "code",
      "execution_count": 48,
      "metadata": {
        "nbgrader": {
          "grade": false,
          "grade_id": "q1-solution",
          "locked": false,
          "schema_version": 1,
          "solution": true
        },
        "id": "INpHiVtf21Er",
        "outputId": "8d449a72-e363-43a5-ec3a-c42cbd809074",
        "colab": {
          "base_uri": "https://localhost:8080/"
        }
      },
      "outputs": [
        {
          "output_type": "stream",
          "name": "stderr",
          "text": [
            "<ipython-input-48-6a03d68707c3>:4: DtypeWarning: Columns (2,8,35,36) have mixed types. Specify dtype option on import or set low_memory=False.\n",
            "  condemnations = pd.read_csv('/content/condemn.txt')\n"
          ]
        },
        {
          "output_type": "execute_result",
          "data": {
            "text/plain": [
              "(32586, 40)"
            ]
          },
          "metadata": {},
          "execution_count": 48
        }
      ],
      "source": [
        "%matplotlib inline\n",
        "import pandas as pd\n",
        "\n",
        "condemnations = pd.read_csv('/content/condemn.txt')\n",
        "condemnations.shape"
      ]
    },
    {
      "cell_type": "code",
      "execution_count": 49,
      "metadata": {
        "id": "1g4Jg68A21Er"
      },
      "outputs": [],
      "source": [
        "import pandas as pd\n",
        "\n",
        "# Load the dataset\n",
        "condemnations = pd.read_csv('condemn.txt', low_memory=False)\n",
        "\n",
        "# Convert 'InspectDate' to datetime format\n",
        "condemnations['InspectDate'] = pd.to_datetime(condemnations['InspectDate'], errors='coerce')\n",
        "\n",
        "# Filter rows where 'InspectDate' is between 1986 and 2014\n",
        "condemnations = condemnations[\n",
        "    (condemnations['InspectDate'].dt.year >= 1986) &\n",
        "    (condemnations['InspectDate'].dt.year <= 2014)\n",
        "]"
      ]
    },
    {
      "cell_type": "code",
      "execution_count": 13,
      "metadata": {
        "id": "MNe42DAb21Er"
      },
      "outputs": [],
      "source": []
    },
    {
      "cell_type": "code",
      "execution_count": 50,
      "metadata": {
        "nbgrader": {
          "grade": true,
          "grade_id": "q1-tests",
          "locked": true,
          "points": 6,
          "schema_version": 1,
          "solution": false
        },
        "id": "94FvDrpe21Er"
      },
      "outputs": [],
      "source": [
        "assert(condemnations.shape == (30232, 40))\n",
        "assert(len(condemnations[condemnations['InspectDate'] < '1986'])==0)\n",
        "assert(len(condemnations[condemnations['InspectDate'] >= '2015'])==0)"
      ]
    },
    {
      "cell_type": "markdown",
      "metadata": {
        "nbgrader": {
          "grade": false,
          "grade_id": "q2-intro",
          "locked": true,
          "schema_version": 1,
          "solution": false
        },
        "id": "yXb4BN8621Er"
      },
      "source": [
        "## STEP 2: Pivot and Summarize\n",
        "\n",
        "In this step we want to pivot our data so that we have one row per year, a column for each value that appears in the `Status` column, and a count of how many condemnations occurred of each type in each year.  Put your summary pivot table into a variable called `by_year`.\n",
        "\n",
        "**Some helpful notes:**\n",
        "* For some reason, Pandas is just kind of stubborn about count being the aggregate function.  You may need to tell it to `np.ma.count` specifically.  I've imported Numpy as np for you."
      ]
    },
    {
      "cell_type": "code",
      "execution_count": 51,
      "metadata": {
        "id": "wfadxSom21Es"
      },
      "outputs": [],
      "source": [
        "import numpy as np\n",
        "import pandas as pd\n",
        "\n",
        "# Create a pivot table to count 'AcctNum' by year and status\n",
        "by_year = pd.pivot_table(\n",
        "    condemnations,\n",
        "    values='AcctNum',\n",
        "    index=condemnations['InspectDate'].dt.year,\n",
        "    columns='Status',\n",
        "    aggfunc='count'\n",
        ")"
      ]
    },
    {
      "cell_type": "code",
      "execution_count": 52,
      "metadata": {
        "nbgrader": {
          "grade": true,
          "grade_id": "q2-tests",
          "locked": true,
          "points": 6,
          "schema_version": 1,
          "solution": false
        },
        "id": "Df0eiFi721Es"
      },
      "outputs": [],
      "source": [
        "assert(by_year.shape == (29, 4))\n",
        "assert(list(by_year.columns) == ['B', 'L', 'R', 'W'])\n",
        "assert(list(by_year.sum()) == [10572, 4966, 98, 9670])"
      ]
    },
    {
      "cell_type": "markdown",
      "metadata": {
        "nbgrader": {
          "grade": false,
          "grade_id": "q3-intro",
          "locked": true,
          "schema_version": 1,
          "solution": false
        },
        "id": "hb6EDxAc21Es"
      },
      "source": [
        "## STEP 3: Plot and see what you see\n",
        "\n",
        "Use Pandas built-in plotting capabilities to visualize this information in way that you think makes sense.  It might be that plotting a simple multi-series line chart would give you some insights.  Show your plot in the cell below, then use the text cell below that to write a few sentences about what you see.\n"
      ]
    },
    {
      "cell_type": "code",
      "execution_count": 53,
      "metadata": {
        "nbgrader": {
          "grade": true,
          "grade_id": "q3-manual",
          "locked": false,
          "points": 5,
          "schema_version": 1,
          "solution": true
        },
        "id": "8YGMKU9I21Es",
        "outputId": "0a7a104f-bc86-4d15-dedd-b4d52e4c67d1",
        "colab": {
          "base_uri": "https://localhost:8080/",
          "height": 466
        }
      },
      "outputs": [
        {
          "output_type": "execute_result",
          "data": {
            "text/plain": [
              "<Axes: xlabel='InspectDate'>"
            ]
          },
          "metadata": {},
          "execution_count": 53
        },
        {
          "output_type": "display_data",
          "data": {
            "text/plain": [
              "<Figure size 640x480 with 1 Axes>"
            ],
            "image/png": "[encoded data removed]"
          },
          "metadata": {}
        }
      ],
      "source": [
        "%matplotlib inline\n",
        "by_year.plot()"
      ]
    },
    {
      "cell_type": "markdown",
      "metadata": {
        "id": "MgALzirl21Es"
      },
      "source": [
        "---"
      ]
    },
    {
      "cell_type": "markdown",
      "source": [
        "The chart, above displays how various statuses have evolved over time highlighting observations;\n",
        "\n",
        "Status B shows a surge, between 1995 and 2000. Experiences a decrease afterward before sharply climbing again in approximately 2009.\n",
        "\n",
        "There was a rise, in the status from 1995 to 2010 with a decrease, around 2005.\n",
        "\n",
        "The level of status consistently stayed low during that time frame with an increase noted around the year 2005.\n",
        "\n",
        "The status indicated a rise, between 1995 and 2000 before decreasing and experiencing a comeback near 2005.\n",
        "\n",
        "The storyline indicates that the positions B,L andW have seen changes, over time whereas status R has stayed quite steady throughout the years.One could delve deeper to uncover the factors driving these shifts."
      ],
      "metadata": {
        "id": "inffF7dg91uv"
      }
    },
    {
      "cell_type": "code",
      "execution_count": null,
      "metadata": {
        "id": "kmRUmZrD21Et"
      },
      "outputs": [],
      "source": []
    },
    {
      "cell_type": "markdown",
      "metadata": {
        "id": "xfot_4Lv21Et"
      },
      "source": [
        "# PART 2 - Video Conference Usage\n",
        "\n",
        "In this next part of the assignment, we'll be looking at how video conference usage changed during the beginning of COVID-19.  This real data.  Please don't judge anyone based on the information here.  ;)  The data is in the `/data/meetings.csv` file.\n",
        "\n",
        "For the assignment, I want you to compare (by person) the number of meetings hosted by each user for the last two weeks of February and the last two weeks of March.  This might be a little complicated to think through HOW to do that, so the steps below are one approach.\n",
        "\n",
        "1. Create a new column called startDate that contains just the day part of the startTime column in the data.  You can do that using datetime functions if you want, but you'll notice that the date in this file is a string formatted YYYY-MM-DD-HH:mm:ss, so it's probably easier just to pull out the first 10 characters of the string instead.  `meetings['startTime'].str[0:10]`\n",
        "2. Create another new column.  This one should contain a label like \"BEFORE\" for the week 2/17 - 2/28 and \"DURING\" for the week of 3/16 - 3/27.  A hand tip on this is that you can set values for some rows in a data frame using `meetings.loc[row_filter,'Column Name'] = 'Value'` if you've created a `row_filter` as we discussed in prior weeks.\n",
        "3. From here, using `pivot_table()` is one good way to summarize the information.\n",
        "\n",
        "**FINAL RESULT**\n",
        "\n",
        "For a final result, I'd like you to produce a data frame named **summary** that contains:\n",
        "* One ROW for each userName.  The userName can either be the row index or a column in the data frame.\n",
        "* One COLUMN for the \"BEFORE\" week and one COLUMN for the \"DURING\" week.  Name those columns 'Before' and 'During'.\n",
        "* One more calculated column that shows the percent increase from BEFORE to DURING.  Name that column 'pctChange'.\n"
      ]
    },
    {
      "cell_type": "code",
      "execution_count": 61,
      "metadata": {
        "id": "0yZc0kZw21Et"
      },
      "outputs": [],
      "source": [
        "import pandas as pd\n",
        "meetings = pd.read_csv('meetings.csv')\n",
        "\n",
        "meetings['startDate'] = meetings['startTime'].str[0:10]\n",
        "\n",
        "meetings['period'] = ''\n",
        "\n",
        "meetings.loc[(meetings['startDate'] >= '2020-02-17') &\n",
        "            (meetings['startDate'] <= '2020-02-28'), 'period'] = 'Before'\n",
        "\n",
        "meetings.loc[(meetings['startDate'] >= '2020-03-16') &\n",
        "            (meetings['startDate'] <= '2020-03-27'), 'period'] = 'During'\n",
        "\n",
        "meeting_counts = pd.pivot_table(\n",
        "    meetings[meetings['period'].isin(['Before', 'During'])],\n",
        "    values='meetingId',\n",
        "    index='userName',\n",
        "    columns='period',\n",
        "    aggfunc='count',\n",
        "    fill_value=0\n",
        ")"
      ]
    },
    {
      "cell_type": "code",
      "execution_count": 62,
      "metadata": {
        "id": "3qq6sJh021Et"
      },
      "outputs": [],
      "source": [
        "summary = meeting_counts.copy()\n",
        "summary['pctChange'] = (summary['During'] - summary['Before']) / summary['Before']\n",
        "summary.loc[summary['Before'] == 0, 'pctChange'] = float('inf')"
      ]
    },
    {
      "cell_type": "markdown",
      "metadata": {
        "id": "vXtSu4tT21Et"
      },
      "source": [
        "---"
      ]
    },
    {
      "cell_type": "code",
      "execution_count": 63,
      "metadata": {
        "id": "kmGahW7S21Et"
      },
      "outputs": [],
      "source": [
        "assert(len(summary) == 22)"
      ]
    },
    {
      "cell_type": "code",
      "execution_count": 64,
      "metadata": {
        "id": "gTPYk7B721Et"
      },
      "outputs": [],
      "source": [
        "assert(summary['pctChange'].mean().round(2) == 0.92)"
      ]
    },
    {
      "cell_type": "code",
      "execution_count": null,
      "metadata": {
        "id": "bUhtSOVd21Et"
      },
      "outputs": [],
      "source": []
    },
    {
      "cell_type": "markdown",
      "metadata": {
        "id": "MCPWduXO21Et"
      },
      "source": [
        "\n",
        "\n",
        "---\n",
        "\n",
        "\n",
        "\n",
        "## Submitting Your Work\n",
        "\n",
        "Submit as usual\n"
      ]
    }
  ],
  "metadata": {
    "celltoolbar": "Create Assignment",
    "kernelspec": {
      "display_name": "Python 3",
      "language": "python",
      "name": "python3"
    },
    "language_info": {
      "codemirror_mode": {
        "name": "ipython",
        "version": 3
      },
      "file_extension": ".py",
      "mimetype": "text/x-python",
      "name": "python",
      "nbconvert_exporter": "python",
      "pygments_lexer": "ipython3",
      "version": "3.6.7"
    },
    "colab": {
      "provenance": []
    }
  },
  "nbformat": 4,
  "nbformat_minor": 0
}